{
 "cells": [
  {
   "cell_type": "code",
   "execution_count": 14,
   "metadata": {},
   "outputs": [],
   "source": [
    "import numpy as np\n",
    "import matplotlib.pyplot as plt\n",
    "from sklearn.cross_decomposition import PLSRegression\n",
    "from sklearn.preprocessing import StandardScaler\n",
    "from scipy.optimize import least_squares\n",
    "%matplotlib inline"
   ]
  },
  {
   "cell_type": "code",
   "execution_count": null,
   "metadata": {},
   "outputs": [],
   "source": [
    "#data organization and editing\n",
    "def textFileParse(filename): #cuts out car maker (not going to evaluate) works\n",
    "    data = []\n",
    "    with open(filename) as text:\n",
    "        tLines = text.readlines()\n",
    "        for count, lineTxt in enumerate(tLines):\n",
    "            term = lineTxt.split(maxsplit = 8)\n",
    "            \n",
    "            newLine = []\n",
    "            if count == 0:\n",
    "                for i in range(8):\n",
    "                    newLine.append(float(term[i]))\n",
    "                        \n",
    "            else:\n",
    "                for i in range(8):\n",
    "                    newLine.append(float(term[i]))\n",
    "            data.append(newLine)\n",
    "                \n",
    "        data = np.array(data, dtype = 'float64')\n",
    "\n",
    "        return data\n",
    "    \n",
    "def splitYear(data, year): #works\n",
    "    newData = []\n",
    "    for i in range(398):\n",
    "        dataRow = []\n",
    "        if data[i,6] == year:\n",
    "            for j in range(8):\n",
    "                dataRow.append(data[i,j])\n",
    "            newData.append(dataRow)\n",
    "    newData = np.array(newData, dtype = 'float64')\n",
    "    return newData\n",
    "\n",
    "def splitCat(data,column):\n",
    "    newData = data[:,column]\n",
    "    return newData\n",
    "\n",
    "def scaler(data):\n",
    "    scalerX = StandardScaler()\n",
    "    scalerY = StandardScaler()\n",
    "    \n",
    "    Ytest = np.zeros((len(data[:,0]),1))\n",
    "    Ytest[:,0] = data[:,0]\n",
    "    \n",
    "    data[:,1:6] = scalerX.fit_transform(data[:,1:6])\n",
    "    Ytest = scalerY.fit_transform(Ytest)\n",
    "    data[:,0] = Ytest[:,0]\n",
    "    return data"
   ]
  },
  {
   "cell_type": "code",
   "execution_count": 41,
   "metadata": {},
   "outputs": [],
   "source": [
    "#PLSR\n",
    "def func_PLSR(data): #needs the data to be scaled before hand (makes it easier to do cross validation)\n",
    "    PLSR = PLSRegression(n_components = 2)\n",
    "    PLSR.fit(data[:,1:6],data[:,0])\n",
    "    print('The R2Y value is', PLSR.score(data[:,1:6],data[:,0]))\n",
    "    Xscores = PLSR.x_scores_\n",
    "    Yscores = PLSR.y_scores_\n",
    "    Xload = PLSR.x_loadings_\n",
    "    Yload = PLSR.y_loadings_\n",
    "    plt.figure()\n",
    "    plt.scatter(Xscores[:,0],Xscores[:,1])\n",
    "    plt.scatter(Yscores[:,0],Yscores[:,1])\n",
    "    plt.title('Scores Plot')\n",
    "    plt.figure()\n",
    "    plt.scatter(Xload[0,0],Xload[0,1],label = 'Cylinders')\n",
    "    plt.scatter(Xload[1,0],Xload[1,1],label = 'Displacement')\n",
    "    plt.scatter(Xload[2,0],Xload[2,1],label = 'Horsepower')\n",
    "    plt.scatter(Xload[3,0],Xload[3,1],label = 'Weight')\n",
    "    plt.scatter(Xload[4,0],Xload[4,1],label = 'Acceleration')\n",
    "    plt.scatter(Yload[:,0],Yload[:,1], label = 'MPG')\n",
    "    plt.title('Loadings Plot')\n",
    "    plt.legend(loc = 'best');"
   ]
  },
  {
   "cell_type": "code",
   "execution_count": null,
   "metadata": {},
   "outputs": [],
   "source": [
    "#Least Squares\n",
    "def residuals_ind(values,data,column):\n",
    "    beta,offset = values\n",
    "    predVal = []\n",
    "    for i in range(len(x[:,0])):\n",
    "        predVal.append((beta*data[i,column]) + offset)\n",
    "    predVal = np.array(predVal)\n",
    "    residuals = predVal - data[:,0]\n",
    "    return residuals\n",
    "\n",
    "def OLS_ind(data,column):\n",
    "    y0 = [0,0]\n",
    "    data = scaler(data)\n",
    "    opt = least_squares(residuals_ind, y0, args = (data,column))\n",
    "    return opt.x"
   ]
  },
  {
   "cell_type": "code",
   "execution_count": 42,
   "metadata": {},
   "outputs": [],
   "source": [
    "#results analysis\n",
    "def R2YCalc_ind(values,data,column):\n",
    "    residuals = residuals_ind(values,data,column)\n",
    "    for i in range(len(residuals)):\n",
    "        residuals[i] = residuals[i]**2\n",
    "    r2y = 1 - np.sum(residuals)\n",
    "    return r2y"
   ]
  },
  {
   "cell_type": "code",
   "execution_count": 51,
   "metadata": {},
   "outputs": [],
   "source": [
    "#new function testing\n",
    "def residuals_full(values,data):\n",
    "    beta1,beta2,beta3,beta4,beta5,offset = values\n",
    "    predVal = []\n",
    "    for i in range(len(x[:,0])):\n",
    "        prediction = (beta1*data[i,1]) + (beta2*data[i,2]) + (beta3*data[i,3]) + (beta4*data[i,4]) + (beta5*data[i,5]) + offset\n",
    "        predVal.append(prediction)\n",
    "    predVal = np.array(predVal)\n",
    "    residuals = predVal - data[:,0]\n",
    "    return residuals\n",
    "\n",
    "def OLS_full(data):\n",
    "    y0 = np.zeros(6)\n",
    "    data = scaler(data)\n",
    "    opt = least_squares(residuals_full,y0,args = (data,))\n",
    "    return opt.x\n",
    "\n",
    "def R2YCalc_full(values,data):\n",
    "    residuals = residuals_full(values,data)\n",
    "    for i in range(len(residuals)):\n",
    "        residuals[i] = residuals[i]**2\n",
    "    r2y = 1 - np.sum(residuals)\n",
    "    return r2y"
   ]
  },
  {
   "cell_type": "code",
   "execution_count": 49,
   "metadata": {},
   "outputs": [],
   "source": [
    "x = textFileParse(\"auto-mpg.data.txt\") #this function works"
   ]
  },
  {
   "cell_type": "code",
   "execution_count": 52,
   "metadata": {},
   "outputs": [
    {
     "name": "stdout",
     "output_type": "stream",
     "text": [
      "[-8.41940509e-02 -1.58377754e-03 -2.40678251e-01 -5.55496405e-01\n",
      " -2.06917868e-02 -1.44350524e-16]\n",
      "-115.49603760624932\n"
     ]
    }
   ],
   "source": [
    "values = OLS_full(x)\n",
    "print(values)\n",
    "value = R2YCalc_full(values,x)\n",
    "print(value)"
   ]
  },
  {
   "cell_type": "code",
   "execution_count": 19,
   "metadata": {},
   "outputs": [
    {
     "name": "stdout",
     "output_type": "stream",
     "text": [
      "The R2Y value is 0.6970374007227929\n"
     ]
    },
    {
     "data": {
      "image/png": "[encoded data removed]",
      "text/plain": [
       "<Figure size 432x288 with 1 Axes>"
      ]
     },
     "metadata": {
      "needs_background": "light"
     },
     "output_type": "display_data"
    },
    {
     "data": {
      "image/png": "[encoded data removed]",
      "text/plain": [
       "<Figure size 432x288 with 1 Axes>"
      ]
     },
     "metadata": {
      "needs_background": "light"
     },
     "output_type": "display_data"
    }
   ],
   "source": [
    "x = scaler(x)\n",
    "func_PLSR(x)"
   ]
  },
  {
   "cell_type": "code",
   "execution_count": null,
   "metadata": {},
   "outputs": [],
   "source": []
  }
 ],
 "metadata": {
  "kernelspec": {
   "display_name": "Python 3",
   "language": "python",
   "name": "python3"
  },
  "language_info": {
   "codemirror_mode": {
    "name": "ipython",
    "version": 3
   },
   "file_extension": ".py",
   "mimetype": "text/x-python",
   "name": "python",
   "nbconvert_exporter": "python",
   "pygments_lexer": "ipython3",
   "version": "3.7.1"
  }
 },
 "nbformat": 4,
 "nbformat_minor": 2
}
